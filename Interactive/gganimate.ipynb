{
 "cells": [
  {
   "cell_type": "markdown",
   "metadata": {},
   "source": [
    "# Install and Import the Required Packages"
   ]
  },
  {
   "cell_type": "code",
   "execution_count": 40,
   "metadata": {},
   "outputs": [],
   "source": [
    "# Import the required packages\n",
    "library(gapminder)\n",
    "library(ggplot2)\n",
    "library(gganimate)\n",
    "library(jsonlite)"
   ]
  },
  {
   "cell_type": "markdown",
   "metadata": {},
   "source": [
    "# Basic Static Box Plot"
   ]
  },
  {
   "cell_type": "code",
   "execution_count": 18,
   "metadata": {},
   "outputs": [
    {
     "data": {
      "image/png": "[encoded data removed]",
      "text/plain": [
       "plot without title"
      ]
     },
     "metadata": {},
     "output_type": "display_data"
    }
   ],
   "source": [
    "g <- ggplot(data, aes(continent, lifeExp))+\n",
    "             geom_boxplot()\n",
    "\n",
    "g"
   ]
  },
  {
   "cell_type": "markdown",
   "metadata": {},
   "source": [
    "# Animated Box Plot"
   ]
  },
  {
   "cell_type": "code",
   "execution_count": 50,
   "metadata": {},
   "outputs": [],
   "source": [
    "# Define dataset\n",
    "data <- gapminder\n",
    "\n",
    "# Define plot\n",
    "g <- ggplot(data, aes(continent, lifeExp))+\n",
    "             geom_boxplot()+\n",
    "      \n",
    "            # gganimate specific stuff\n",
    "             labs(title = 'Year: {frame_time}', x = 'Continent', y = 'life expectancy') +\n",
    "             transition_time(year) +\n",
    "             ease_aes('linear')+\n",
    "             theme(plot.title = element_text(color=\"#666666\", face=\"bold\", size=30, hjust=0))\n",
    "\n",
    "# Display plot (if running Jupyter locally)\n",
    "g"
   ]
  },
  {
   "cell_type": "code",
   "execution_count": 49,
   "metadata": {},
   "outputs": [],
   "source": [
    "# Save plot as a GIF\n",
    "g <- animate(g, width = 950, height = 750, renderer = gifski_renderer())\n",
    "anim_save(\"./box_plot.gif\",animation=g)"
   ]
  },
  {
   "cell_type": "markdown",
   "metadata": {},
   "source": [
    "# Animated Boxplot - Additional Options"
   ]
  },
  {
   "cell_type": "code",
   "execution_count": 27,
   "metadata": {},
   "outputs": [],
   "source": [
    "# Define dataset\n",
    "data <- gapminder\n",
    "\n",
    "# Define plot\n",
    "g <- ggplot(data, aes(continent, lifeExp))+\n",
    "             geom_boxplot()+\n",
    "      \n",
    "            # gganimate specific stuff\n",
    "             labs(title = 'Year: {frame_time}', x = 'Continent', y = 'life expectancy') +\n",
    "             transition_time(year) +\n",
    "             theme(plot.title = element_text(color=\"#666666\", face=\"bold\", size=30, hjust=0))+\n",
    "\n",
    "            # Additional transition options\n",
    "              ease_aes('sine-in-out')+\n",
    "              enter_fade() + \n",
    "              exit_shrink()\n",
    "\n",
    "\n",
    "# Display plot (if running Jupyter locally)\n",
    "g"
   ]
  },
  {
   "cell_type": "code",
   "execution_count": null,
   "metadata": {},
   "outputs": [],
   "source": [
    "# Save plot as a GIF\n",
    "g <- animate(g, width = 950, height = 750, renderer = gifski_renderer())\n",
    "anim_save(\"./box_plot2.gif\",animation=g)"
   ]
  },
  {
   "cell_type": "markdown",
   "metadata": {},
   "source": [
    "# Beeswarm Plot"
   ]
  },
  {
   "cell_type": "code",
   "execution_count": 35,
   "metadata": {},
   "outputs": [],
   "source": [
    "# Define dataset\n",
    "data <- gapminder\n",
    "\n",
    "# Define plot\n",
    "g <- ggplot(data, aes(continent, lifeExp))+\n",
    "            geom_dotplot(binaxis = \"y\", stackdir =  \n",
    "            \"center\", binwidth=0.7)+\n",
    "\n",
    "            # gganimate specific stuff\n",
    "             labs(title = 'Year: {frame_time}', x = 'Continent', y = 'life expectancy') +\n",
    "             transition_time(year) +\n",
    "             theme(plot.title = element_text(color=\"#666666\", face=\"bold\", size=30, hjust=0))\n",
    "\n",
    "# Display plot (if running Jupyter locally)\n",
    "g"
   ]
  },
  {
   "cell_type": "code",
   "execution_count": null,
   "metadata": {},
   "outputs": [],
   "source": [
    "# Save plot as a GIF\n",
    "g <- animate(g, width = 950, height = 750, renderer = gifski_renderer())\n",
    "anim_save(\"./box_plot3.gif\",animation=g)"
   ]
  },
  {
   "cell_type": "markdown",
   "metadata": {},
   "source": [
    "# Beeswarm Plot + Box Plot"
   ]
  },
  {
   "cell_type": "code",
   "execution_count": 34,
   "metadata": {},
   "outputs": [],
   "source": [
    "# Define dataset\n",
    "data <- gapminder\n",
    "\n",
    "# Define plot\n",
    "g <- ggplot(data, aes(continent, lifeExp))+\n",
    "            geom_boxplot()+\n",
    "            geom_dotplot(binaxis = \"y\", stackdir =  \n",
    "            \"center\", binwidth=0.7)+\n",
    "\n",
    "            # gganimate specific stuff\n",
    "             labs(title = 'Year: {frame_time}', x = 'Continent', y = 'life expectancy') +\n",
    "             transition_time(year) +\n",
    "             theme(plot.title = element_text(color=\"#666666\", face=\"bold\", size=30, hjust=0))\n",
    "\n",
    "# Display plot (if running Jupyter locally)\n",
    "g"
   ]
  },
  {
   "cell_type": "code",
   "execution_count": null,
   "metadata": {},
   "outputs": [],
   "source": [
    "# Save plot as a GIF\n",
    "g <- animate(g, width = 950, height = 750, renderer = gifski_renderer())\n",
    "anim_save(\"./box_plot4.gif\",animation=g)"
   ]
  },
  {
   "cell_type": "markdown",
   "metadata": {},
   "source": [
    "# Animated Bubble Plot"
   ]
  },
  {
   "cell_type": "code",
   "execution_count": 9,
   "metadata": {},
   "outputs": [],
   "source": [
    "# Adapted from code by Thomas Lin Pedersen - https://github.com/thomasp85/gganimate\n",
    "\n",
    "# Dataset\n",
    "data = gapminder\n",
    "\n",
    "# Country colors ships with the gapminder dataset\n",
    "colors = country_colors\n",
    "\n",
    "# Creating Plot\n",
    "g <- ggplot(data, aes(gdpPercap, lifeExp, size = pop, colour = country)) +\n",
    "      geom_point(alpha = 0.7, show.legend = FALSE) +\n",
    "      scale_colour_manual(values = colors) +\n",
    "      scale_size(range = c(2, 12)) +\n",
    "      scale_x_log10() +\n",
    "      facet_grid(~continent) +\n",
    "      \n",
    "      # Here comes the gganimate specific bits\n",
    "      labs(title = 'Year: {frame_time}', x = 'GDP per capita', y = 'life expectancy') +\n",
    "      transition_time(year) +\n",
    "      ease_aes('linear')\n",
    "\n",
    "# Display plot (if running Jupyter locally)\n",
    "g"
   ]
  },
  {
   "cell_type": "code",
   "execution_count": 11,
   "metadata": {},
   "outputs": [],
   "source": [
    "# Save plot as a GIF\n",
    "g <- animate(g,width = 1200, height = 400, renderer = gifski_renderer())\n",
    "anim_save(\"./Bubble_Plot.gif\",animation=g)"
   ]
  },
  {
   "cell_type": "markdown",
   "metadata": {},
   "source": [
    "# Animated Line Plot"
   ]
  },
  {
   "cell_type": "code",
   "execution_count": 47,
   "metadata": {},
   "outputs": [
    {
     "name": "stderr",
     "output_type": "stream",
     "text": [
      "Warning message:\n",
      "\"package 'transformr' is in use and will not be installed\""
     ]
    }
   ],
   "source": [
    "# Required for plotting lines\n",
    "#install.packages('transformr')\n",
    "library(transformr)\n",
    "\n",
    "# Data to get you started\n",
    "url = 'https://raw.githubusercontent.com/vega/vega/master/docs/data/gapminder.json'\n",
    "data <- fromJSON(url, flatten=TRUE)\n",
    "data_cluster_4 <- data[data$cluster==4,]\n",
    "\n",
    "g <- ggplot(data_cluster_4,aes(life_expect,fertility, group=country)) + \n",
    "                geom_line(aes(group=country, colour=country), size=1) +\n",
    "                geom_point(aes(colour=country), size=2) +\n",
    "                theme_minimal() +\n",
    "                labs(x='Life Expectancy', \n",
    "                     y='Fertility Rate', \n",
    "                     title='Fertility Rate vs Life Expectancy - Cluster 4 - 1955-2005',\n",
    "                     subtitle='Data provided by Gapminder')+\n",
    "\n",
    "              # Here comes the gganimate specific bits\n",
    "              transition_reveal(year) +\n",
    "              ease_aes('linear')\n",
    "g"
   ]
  },
  {
   "cell_type": "code",
   "execution_count": null,
   "metadata": {},
   "outputs": [],
   "source": [
    "# Save plot as a GIF\n",
    "g <- animate(g,width = 1200, height = 400, renderer = gifski_renderer())\n",
    "anim_save(\"./Line_Plot.gif\",animation=g)"
   ]
  }
 ],
 "metadata": {
  "kernelspec": {
   "display_name": "R",
   "language": "R",
   "name": "ir"
  },
  "language_info": {
   "codemirror_mode": "r",
   "file_extension": ".r",
   "mimetype": "text/x-r-source",
   "name": "R",
   "pygments_lexer": "r",
   "version": "3.6.0"
  }
 },
 "nbformat": 4,
 "nbformat_minor": 2
}
