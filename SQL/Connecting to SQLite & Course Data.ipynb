{
 "cells": [
  {
   "cell_type": "markdown",
   "metadata": {},
   "source": [
    "# Connecting to SQLite Database\n",
    "\n",
    "Most students are accustomed to working with flat files (csv, excel, etc) as their primary data stores. There is good reason for this; these file are small, easy to share, and easy to work with. However, in industry its generally considered bad practice to use flat files as your primary data repository. Instead, you may need to work with a variety of different databases both locally and in the cloud. \n",
    "\n",
    "To get in the practice of making requests to databases it's good practice to read from a SQLite database (stored locally). This semester I will be using the World Bank's World Development Indicator Database for a variety of different demonstrations. You can download a copy of the database here: https://www.kaggle.com/worldbank/world-development-indicators#database.sqlite\n",
    "\n",
    "To download, extract and query this data follow these steps:\n",
    "\n",
    "### 1. Download the Dataset from Kaggle\n",
    "[<img src=\"./images/Kaggle_SQL_Site.JPG\" />](https://www.kaggle.com/worldbank/world-development-indicators#database.sqlite)\n",
    "\n",
    "\n",
    "\n",
    "\n",
    "### 2. Open the download and extract the data into a local folder on your computer\n",
    "<img src=\"./images/Extract.JPG\" />\n",
    "\n",
    "\n",
    "\n",
    "### 3. Define a path to where you want the data placed\n",
    "<img src=\"./images/Define_Path.JPG\" />\n"
   ]
  },
  {
   "cell_type": "markdown",
   "metadata": {},
   "source": [
    "## Connecting to SQLite in Python"
   ]
  },
  {
   "cell_type": "code",
   "execution_count": 11,
   "metadata": {},
   "outputs": [
    {
     "name": "stdout",
     "output_type": "stream",
     "text": [
      "0               Islamic State of Afghanistan\n",
      "1                        Republic of Albania\n",
      "2    People's Democratic Republic of Algeria\n",
      "3                             American Samoa\n",
      "4                    Principality of Andorra\n",
      "5                People's Republic of Angola\n",
      "6                        Antigua and Barbuda\n",
      "7                                 Arab World\n",
      "8                         Argentine Republic\n",
      "Name: LongName, dtype: object\n"
     ]
    }
   ],
   "source": [
    "# Import the required packages\n",
    "import sqlite3\n",
    "import pandas as pd\n",
    "\n",
    "# Connect to the SQLite file (\"database.sqlite\") using the path you provided above\n",
    "sqlcon = sqlite3.connect('C:\\\\Users\\\\GTayl\\\\Desktop\\\\Georgetown\\\\data\\\\database.sqlite')\n",
    "\n",
    "# Make a request to the file (all the countries in the country table) and store all the results in a pandas dataframe\n",
    "results = pd.read_sql(\"\"\" SELECT LongName FROM COUNTRY \"\"\", con=sqlcon)\n",
    "\n",
    "# Print a subset of the results\n",
    "print(results['LongName'][0:9])"
   ]
  },
  {
   "cell_type": "markdown",
   "metadata": {},
   "source": [
    "## Connecting to SQLite in R"
   ]
  },
  {
   "cell_type": "code",
   "execution_count": 12,
   "metadata": {},
   "outputs": [
    {
     "name": "stdout",
     "output_type": "stream",
     "text": [
      "[1] \"Islamic State of Afghanistan\"           \n",
      "[2] \"Republic of Albania\"                    \n",
      "[3] \"People's Democratic Republic of Algeria\"\n",
      "[4] \"American Samoa\"                         \n",
      "[5] \"Principality of Andorra\"                \n",
      "[6] \"People's Republic of Angola\"            \n",
      "[7] \"Antigua and Barbuda\"                    \n",
      "[8] \"Arab World\"                             \n",
      "[9] \"Argentine Republic\"                     \n"
     ]
    }
   ],
   "source": [
    "# Import the required packages\n",
    "library(\"DBI\")\n",
    "library(\"RSQLite\")\n",
    "\n",
    "# Connect to the SQLite Database\n",
    "con = dbConnect(RSQLite::SQLite(), dbname=\"C:\\\\Users\\\\GTayl\\\\Desktop\\\\Georgetown\\\\data\\\\database.sqlite\")\n",
    "\n",
    "# Make a request to the file (all the countries in the country table) and store all the results in a dataframe\n",
    "df = dbGetQuery( con,'SELECT LongName FROM COUNTRY' )\n",
    "\n",
    "# Print a subset of the results\n",
    "print(df[,'LongName'][1:9])"
   ]
  }
 ],
 "metadata": {
  "kernelspec": {
   "display_name": "R",
   "language": "R",
   "name": "ir"
  },
  "language_info": {
   "codemirror_mode": "r",
   "file_extension": ".r",
   "mimetype": "text/x-r-source",
   "name": "R",
   "pygments_lexer": "r",
   "version": "3.6.0"
  }
 },
 "nbformat": 4,
 "nbformat_minor": 2
}
