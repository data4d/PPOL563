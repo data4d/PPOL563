{
 "cells": [
  {
   "cell_type": "markdown",
   "metadata": {},
   "source": [
    "# Getting Started in Python"
   ]
  },
  {
   "cell_type": "code",
   "execution_count": 2,
   "metadata": {},
   "outputs": [],
   "source": [
    "import sys, json, requests\n",
    "import pandas as pd\n",
    "\n",
    "# Define URL Location of File\n",
    "url = 'https://raw.githubusercontent.com/data4d/PPOL563/master/EDA/gapminder_dirty_data.json'\n",
    "\n",
    "\n",
    "# Pull the file and print error code if not successful\n",
    "pull = requests.get(url)\n",
    "if pull.status_code!=200:\n",
    "    print(\"Error - status code: %s\" % pull.status_code)\n",
    "\n",
    "# Load the data & convert to a pandas dataframe\n",
    "data = json.loads(pull.content)\n",
    "data = pd.DataFrame.from_dict(data)"
   ]
  },
  {
   "cell_type": "markdown",
   "metadata": {},
   "source": [
    "# Getting Started in R"
   ]
  },
  {
   "cell_type": "code",
   "execution_count": 35,
   "metadata": {},
   "outputs": [],
   "source": [
    "install.packages('RCurl')\n",
    "library(httr)\n",
    "library(RCurl)\n",
    "\n",
    "# Pulling CSV data from Github\n",
    "Path_to_file = \"https://raw.githubusercontent.com/data4d/PPOL563/master/EDA/gapminder_dirty_data.csv\"\n",
    "\n",
    "connect <- GET(Path_to_file)\n",
    "\n",
    "if (connect$status_code!=200) {\n",
    "  paste(\"Error - status code :\",connect$status_code,sep=\" \")\n",
    "  } else {\n",
    "    download <-getURL(Path_to_file)\n",
    "    data <- read.csv(text = download)\n",
    "  }"
   ]
  },
  {
   "cell_type": "code",
   "execution_count": null,
   "metadata": {},
   "outputs": [],
   "source": []
  }
 ],
 "metadata": {
  "kernelspec": {
   "display_name": "R",
   "language": "R",
   "name": "ir"
  },
  "language_info": {
   "codemirror_mode": "r",
   "file_extension": ".r",
   "mimetype": "text/x-r-source",
   "name": "R",
   "pygments_lexer": "r",
   "version": "3.6.0"
  }
 },
 "nbformat": 4,
 "nbformat_minor": 2
}
